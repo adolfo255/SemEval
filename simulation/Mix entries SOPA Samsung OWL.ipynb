{
 "cells": [
  {
   "cell_type": "code",
   "execution_count": 1,
   "metadata": {
    "collapsed": true
   },
   "outputs": [],
   "source": [
    "import os\n",
    "import numpy as np\n",
    "import utils\n",
    "\n",
    "CMD=[\"perl\", \"../english_testbed/data/2015/evaluate/correlation-noconfidence.pl\"]\n",
    "class Opts:\n",
    "    verbose=False\n",
    "    filter_test=\".*\"\n",
    "    \n",
    "opts=Opts()"
   ]
  },
  {
   "cell_type": "code",
   "execution_count": 2,
   "metadata": {
    "collapsed": true
   },
   "outputs": [],
   "source": [
    "TRAIN_2015_DATADIR=\"english_testbed/analysis/2015/training/results/\"\n",
    "TEST_2015_DATADIR=\"english_testbed/analysis/2015/testing/results\"\n",
    "TEST_2015_DIR=\"english_testbed/data/2015/test/\"\n",
    "TRAIN_2015_NAMEFILES=[\n",
    "  \"STS.2012.test.input.MSRpar.txt\",\n",
    "  \"STS.2012.test.input.MSRvid.txt\",\n",
    "  \"STS.2012.test.input.SMTeuroparl.txt\",\n",
    "  \"STS.2012.test.input.surprise.OnWN.txt\",\n",
    "  \"STS.2012.test.input.surprise.SMTnews.txt\",\n",
    "  \"STS.2012.train.input.MSRpar.txt\",\n",
    "  \"STS.2012.train.input.MSRvid.txt\",\n",
    "  \"STS.2012.train.input.SMTeuroparl.txt\",\n",
    "  \"STS.2013.test.input.FNWN.txt\",\n",
    "  \"STS.2013.test.input.headlines.txt\",\n",
    "  \"STS.2013.test.input.OnWN.txt\",\n",
    "  \"STS.2013.test.input.SMT.txt\",\n",
    "  \"STS.2014.test.input.deft-forum.txt\",\n",
    "  \"STS.2014.test.input.deft-news.txt\",\n",
    "  \"STS.2014.test.input.headlines.txt\",\n",
    "  \"STS.2014.test.input.images.txt\",\n",
    "  \"STS.2014.test.input.OnWN.txt\",\n",
    "  \"STS.2014.test.input.tweet-news.txt\"]\n",
    "TEST_2015_NAMEFILES=[\n",
    "  \"STS.input.answers-forums.txt\",\n",
    "  \"STS.input.answers-students.txt\",\n",
    "  \"STS.input.belief.txt\",\n",
    "  \"STS.input.headlines.txt\",\n",
    "  \"STS.input.images.txt\"]\n",
    "\n",
    "OUTPUT_DIR='output'\n"
   ]
  },
  {
   "cell_type": "code",
   "execution_count": 3,
   "metadata": {
    "collapsed": false
   },
   "outputs": [],
   "source": [
    "def read_data_file(filename):\n",
    "    GS=[]\n",
    "    DATA=[]\n",
    "    with open(filename) as f:\n",
    "        for line in f:\n",
    "            line=line.strip()\n",
    "            bits=line.split()\n",
    "            #print [x.split(':') for x in bits[1:]]\n",
    "            line=[ float(x.split(':')[1]) for x in bits[1:]]\n",
    "            if not np.isfinite(line).all():\n",
    "                print \"problem\"\n",
    "                print line\n",
    "                continue\n",
    "            GS.append(float(bits[0]))\n",
    "            DATA.append(line)\n",
    "    return GS,np.array(DATA)\n",
    "\n",
    "def make_data_name(dirname,filename):\n",
    "    filename=filename.replace(\".txt\",\".dat\")\n",
    "    return os.path.join(\"..\",dirname,filename)"
   ]
  },
  {
   "cell_type": "code",
   "execution_count": 4,
   "metadata": {
    "collapsed": false
   },
   "outputs": [
    {
     "name": "stdout",
     "output_type": "stream",
     "text": [
      "Shape para STS.2012.test.input.MSRpar.txt (750, 16)\n",
      "Shape para STS.2012.test.input.MSRvid.txt (750, 16)\n",
      "problem\n",
      "[1.0, 1.0, 0.9998734907936643, 1.0, 1.0, 1.0, 1.0, 1.0, 1.0, 0.9999631024565799, 1.0, 1.0, nan, 1.0, 1.0, 0.0]\n",
      "problem\n",
      "[1.0, 1.0, 0.9998734907936643, 1.0, 1.0, 1.0, 1.0, 1.0, 1.0, 0.9999631024565799, 1.0, 1.0, nan, 1.0, 1.0, 0.0]\n",
      "problem\n",
      "[1.0, 1.0, 0.9998734907936643, 1.0, 1.0, 1.0, 1.0, 1.0, 1.0, 0.9999631024565799, 1.0, 1.0, nan, 1.0, 1.0, 0.0]\n",
      "problem\n",
      "[1.0, 1.0, 0.9998734907936643, 1.0, 1.0, 1.0, 1.0, 1.0, 1.0, 0.9999631024565799, 1.0, 1.0, nan, 1.0, 1.0, 0.0]\n",
      "problem\n",
      "[1.0, 1.0, 0.9998734907936643, 1.0, 1.0, 1.0, 1.0, 1.0, 1.0, 0.9999631024565799, 1.0, 1.0, nan, 1.0, 1.0, 0.0]\n",
      "problem\n",
      "[1.0, 1.0, 0.9998734907936643, 1.0, 1.0, 1.0, 1.0, 1.0, 1.0, 0.9999631024565799, 1.0, 1.0, nan, 1.0, 1.0, 0.0]\n",
      "problem\n",
      "[1.0, 1.0, 0.9998734907936643, 1.0, 1.0, 1.0, 1.0, 1.0, 1.0, 0.9999631024565799, 1.0, 1.0, nan, 1.0, 1.0, 0.0]\n",
      "problem\n",
      "[1.0, 1.0, 0.9998734907936643, 1.0, 1.0, 1.0, 1.0, 1.0, 1.0, 0.9999631024565799, 1.0, 1.0, nan, 1.0, 1.0, 0.0]\n",
      "problem\n",
      "[1.0, 1.0, 0.9998734907936643, 1.0, 1.0, 1.0, 1.0, 1.0, 1.0, 0.9999631024565799, 1.0, 1.0, nan, 1.0, 1.0, 0.0]\n",
      "problem\n",
      "[1.0, 1.0, 0.9998734907936643, 1.0, 1.0, 1.0, 1.0, 1.0, 1.0, 0.9999631024565799, 1.0, 1.0, nan, 1.0, 1.0, 0.0]\n",
      "problem\n",
      "[1.0, 1.0, 0.9998734907936643, 1.0, 1.0, 1.0, 1.0, 1.0, 1.0, 0.9999631024565799, 1.0, 1.0, nan, 1.0, 1.0, 0.0]\n",
      "problem\n",
      "[1.0, 1.0, 0.9998734907936643, 1.0, 1.0, 1.0, 1.0, 1.0, 1.0, 0.9999631024565799, 1.0, 1.0, nan, 1.0, 1.0, 0.0]\n",
      "problem\n",
      "[1.0, 1.0, 0.5713932278253606, 0.6363636255264282, 0.9408471342125171, 1.0, 0.8676107556241961, 1.0, 1.0, 0.9999631024565799, 1.0, 1.0, nan, 0.0, 1.0, 4.0]\n",
      "problem\n",
      "[1.0, 1.0, 0.9998734907936643, 1.0, 1.0, 1.0, 1.0, 1.0, 1.0, 0.9999631024565799, 1.0, 1.0, nan, 1.0, 1.0, 0.0]\n",
      "problem\n",
      "[1.0, 1.0, 0.9998734907936643, 1.0, 1.0, 1.0, 1.0, 1.0, 1.0, 0.9999631024565799, 1.0, 1.0, nan, 1.0, 1.0, 0.0]\n",
      "problem\n",
      "[1.0, 1.0, 0.9998734907936643, 1.0, 1.0, 1.0, 1.0, 1.0, 1.0, 0.9999631024565799, 1.0, 1.0, nan, 1.0, 1.0, 0.0]\n",
      "problem\n",
      "[1.0, 1.0, 0.9998734907936643, 1.0, 1.0, 1.0, 1.0, 1.0, 1.0, 0.9999631024565799, 1.0, 1.0, nan, 1.0, 1.0, 0.0]\n",
      "Shape para STS.2012.test.input.SMTeuroparl.txt (442, 16)\n",
      "problem\n",
      "[0.0, 1.0, 0.6249779013999759, 0.13333332538604736, 0.0, 1.0, 0.6158033954273516, 0.8637893525932434, 1.0, 0.19083096428652516, 0.0, 0.7672271736635705, nan, -8.0, 1.66666666667, 38.0]\n",
      "problem\n",
      "[0.0, 1.0, 0.6735823445729932, 0.13725489377975464, 0.0, 1.0, 0.5889874008574913, 0.0, 1.0, 0.00025593794015728175, 0.0, 0.0, nan, -10.0, 1.6, 42.0]\n",
      "problem\n",
      "[1.0, 1.0, 0.4999798556299737, 0.2142857313156128, 0.6214513228651353, 1.0, 0.6701270246950948, 0.514366067829201, 1.0, 0.011516173982609347, 0.0, 0.4751752131722633, nan, -3.0, 1.5, 11.0]\n",
      "problem\n",
      "[1.0, 1.0, 0.999827730085348, 0.18644070625305176, 0.4260276223307294, 1.0, 0.5900836989618902, 0.5265194110324607, 1.0, 0.0053126985438612115, 0.0, 0.0, nan, -6.0, 1.71428571429, 48.0]\n",
      "problem\n",
      "[0.7166304840796434, 1.0, 0.9155227132243203, 0.6551724076271057, 0.7904260406787299, 1.0, inf, 0.9847482130225172, 1.0, 0.6185486676368289, 0.0, 0.9388045832235425, 0.6222222222222222, 0.8999999761581421, 1.0, 19.0]\n",
      "Shape para STS.2012.test.input.surprise.OnWN.txt (745, 16)\n",
      "Shape para STS.2012.test.input.surprise.SMTnews.txt (399, 16)\n",
      "Shape para STS.2012.train.input.MSRpar.txt (750, 16)\n",
      "Shape para STS.2012.train.input.MSRvid.txt (750, 16)\n",
      "Shape para STS.2012.train.input.SMTeuroparl.txt (734, 16)\n",
      "Shape para STS.2013.test.input.FNWN.txt (189, 16)\n",
      "Shape para STS.2013.test.input.headlines.txt (750, 16)\n",
      "Shape para STS.2013.test.input.OnWN.txt (561, 16)\n",
      "problem\n",
      "[1.0, 0.0, nan, 1.0, 1.0, 1.0, 0.0, 0.0, 1.0, 0.0, 0.9999999999999999, 0.0, nan, 1.0, 1.0, 0.0]\n",
      "Shape para STS.2013.test.input.SMT.txt (749, 16)\n",
      "Shape para STS.2014.test.input.deft-forum.txt (450, 16)\n",
      "Shape para STS.2014.test.input.deft-news.txt (300, 16)\n",
      "Shape para STS.2014.test.input.headlines.txt (750, 16)\n",
      "Shape para STS.2014.test.input.images.txt (750, 16)\n",
      "Shape para STS.2014.test.input.OnWN.txt (750, 16)\n",
      "Shape para STS.2014.test.input.tweet-news.txt (750, 16)\n",
      "Shape para STS.input.answers-forums.txt (2000, 16)\n",
      "Shape para STS.input.answers-students.txt (1500, 16)\n",
      "Shape para STS.input.belief.txt (2000, 16)\n",
      "Shape para STS.input.headlines.txt (1500, 16)\n",
      "Shape para STS.input.images.txt (1500, 16)\n",
      "Total train data files 2015: 18\n",
      "Total test  data files 2015: 5\n"
     ]
    }
   ],
   "source": [
    "DATA_TRAIN_2015={}\n",
    "DATA_TEST_2015={}\n",
    "\n",
    "for filename in TRAIN_2015_NAMEFILES:\n",
    "    filename_=make_data_name(TRAIN_2015_DATADIR,filename)\n",
    "    gs,data=read_data_file(filename_)\n",
    "    DATA_TRAIN_2015[filename]=(gs,data)\n",
    "    print \"Shape para\",filename,data.shape\n",
    "\n",
    "for filename in TEST_2015_NAMEFILES:\n",
    "    filename_=make_data_name(TEST_2015_DATADIR,filename)\n",
    "    gs,data=read_data_file(filename_)\n",
    "    DATA_TEST_2015[filename]=(gs,data)\n",
    "    print \"Shape para\",filename,data.shape\n",
    "    DIMS_DATA=data.shape[1]\n",
    "    \n",
    "print \"Total train data files 2015:\",len(DATA_TRAIN_2015)\n",
    "print \"Total test  data files 2015:\",len(DATA_TEST_2015)    "
   ]
  },
  {
   "cell_type": "code",
   "execution_count": 5,
   "metadata": {
    "collapsed": false
   },
   "outputs": [
    {
     "name": "stdout",
     "output_type": "stream",
     "text": [
      "Training shape (11319, 16)\n",
      "Training shape (11319,)\n"
     ]
    }
   ],
   "source": [
    "X_train_2015=[]\n",
    "Y_train_2015=[]\n",
    "X_test_2015=[]\n",
    "Y_test_2015=[]\n",
    "\n",
    "first=False\n",
    "for filename,(gs,data) in DATA_TRAIN_2015.iteritems():\n",
    "    X_train_2015.append(data)\n",
    "    Y_train_2015.append(gs)\n",
    "X_train_2015=np.concatenate(X_train_2015,axis=0)\n",
    "Y_train_2015=np.concatenate(Y_train_2015,axis=0)\n",
    "\n",
    "\n",
    "print \"Training shape\", X_train_2015.shape\n",
    "print \"Training shape\", Y_train_2015.shape\n",
    "    \n"
   ]
  },
  {
   "cell_type": "code",
   "execution_count": 7,
   "metadata": {
    "collapsed": false
   },
   "outputs": [
    {
     "name": "stdout",
     "output_type": "stream",
     "text": [
      "===== For STS.input.answers-forums.txt\n",
      "PEA: 0.56314\n",
      "===== For STS.input.images.txt\n",
      "PEA: 0.79425\n",
      "===== For STS.input.answers-students.txt\n",
      "PEA: 0.6098\n",
      "===== For STS.input.headlines.txt\n",
      "PEA: 0.77166\n",
      "===== For STS.input.belief.txt\n",
      "PEA: 0.68654\n"
     ]
    }
   ],
   "source": [
    "from sklearn.ensemble import RandomForestRegressor\n",
    "from sklearn.metrics import explained_variance_score\n",
    "from sklearn.metrics import mean_absolute_error\n",
    "from sklearn.metrics import mean_squared_error\n",
    "from sklearn.metrics import median_absolute_error\n",
    "from sklearn.metrics import r2_score\n",
    "\n",
    "\n",
    "X_train_2015=np.nan_to_num(X_train_2015)\n",
    "rf= RandomForestRegressor()\n",
    "rf.fit(X_train_2015,Y_train_2015)\n",
    "\n",
    "\n",
    "for filename,(gs,data) in DATA_TEST_2015.iteritems():\n",
    "    gs_=rf.predict(data)\n",
    "\n",
    "    print \"===== For\",filename\n",
    "    #print \"EVS:\", explained_variance_score(gs,gs_)\n",
    "    #print \"MAE:\", mean_absolute_error(gs,gs_)\n",
    "    #print \"MSR:\", mean_squared_error(gs,gs_)\n",
    "    #print \"mAE:\", median_absolute_error(gs,gs_)\n",
    "    #print \"R2 :\", r2_score(gs,gs_)\n",
    "    filename_=os.path.join(\"..\",OUTPUT_DIR,filename)\n",
    "    testfilename=os.path.join(filename)\n",
    "    testfilename=testfilename.replace(\"STS.input\",\"STS.2015.gs\")\n",
    "\n",
    "    fn=open(filename_,'w')\n",
    "    for pred in gs_: \n",
    "        print >> fn, \"{0:1.3f}\".format(pred)\n",
    "    fn.close()\n",
    "    print \"PEA:\",utils.eval(CMD,os.path.join(\"..\",TEST_2015_DIR,testfilename),filename_)\n",
    "\n"
   ]
  },
  {
   "cell_type": "code",
   "execution_count": null,
   "metadata": {
    "collapsed": true
   },
   "outputs": [],
   "source": []
  }
 ],
 "metadata": {
  "kernelspec": {
   "display_name": "Python 2",
   "language": "python",
   "name": "python2"
  },
  "language_info": {
   "codemirror_mode": {
    "name": "ipython",
    "version": 2
   },
   "file_extension": ".py",
   "mimetype": "text/x-python",
   "name": "python",
   "nbconvert_exporter": "python",
   "pygments_lexer": "ipython2",
   "version": "2.7.3"
  }
 },
 "nbformat": 4,
 "nbformat_minor": 0
}
